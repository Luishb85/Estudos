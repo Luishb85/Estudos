{
 "cells": [
  {
   "cell_type": "markdown",
   "metadata": {},
   "source": [
    "# Excercício Estatística Básica - prof Valberto Feitosa - IFCE"
   ]
  },
  {
   "cell_type": "markdown",
   "metadata": {},
   "source": [
    "## Criação do dataframe"
   ]
  },
  {
   "cell_type": "code",
   "execution_count": null,
   "metadata": {},
   "outputs": [],
   "source": [
    "import pandas as pd\n",
    "import numpy as np\n",
    "import matplotlib.pyplot as plt\n",
    "import seaborn as sns"
   ]
  },
  {
   "cell_type": "code",
   "execution_count": 16,
   "metadata": {},
   "outputs": [],
   "source": [
    "#lista de 26 crianças\n",
    "sujeitos = list(range(1,27))\n",
    "\n",
    "# lista aleatória de sexo (masc, fem)\n",
    "sexo = np.random.choice(['Masculino','Feminino'], size=26)\n",
    "\n",
    "# Dados reais do livro para a escova Hugger\n",
    "hugger_antes = [2.18,2.05,1.05,1.95,0.28,2.63,1.50,0.45,0.70,1.30,1.25,0.18,3.30,1.40,0.90,0.58,2.50,2.25,1.53,1.43,3.48,1.80,1.50,2.55,1.30,2.65]\n",
    "hugger_depois = [0.43,0.08,0.18,0.78,0.03,0.023,0.20,0.00,0.05,0.30,0.33,0.00,0.90,0.24,0.15,0.10,0.33,0.33,0.53,0.43,0.65,0.20,0.25,0.15,0.05,0.25]\n",
    "\n",
    "# Gerando dados aleatórios para a escova convencional\n",
    "convencional_antes = np.random.uniform(0.65, 2.5, size=26).round(2)\n",
    "convencional_depois = np.random.uniform(.04, 1.2, size=26).round(2)\n"
   ]
  },
  {
   "cell_type": "code",
   "execution_count": 17,
   "metadata": {},
   "outputs": [
    {
     "name": "stdout",
     "output_type": "stream",
     "text": [
      "26\n",
      "26\n"
     ]
    }
   ],
   "source": [
    "print(len(hugger_antes))\n",
    "print(len(hugger_depois))"
   ]
  },
  {
   "cell_type": "code",
   "execution_count": 18,
   "metadata": {},
   "outputs": [
    {
     "data": {
      "text/html": [
       "<div>\n",
       "<style scoped>\n",
       "    .dataframe tbody tr th:only-of-type {\n",
       "        vertical-align: middle;\n",
       "    }\n",
       "\n",
       "    .dataframe tbody tr th {\n",
       "        vertical-align: top;\n",
       "    }\n",
       "\n",
       "    .dataframe thead th {\n",
       "        text-align: right;\n",
       "    }\n",
       "</style>\n",
       "<table border=\"1\" class=\"dataframe\">\n",
       "  <thead>\n",
       "    <tr style=\"text-align: right;\">\n",
       "      <th></th>\n",
       "      <th>Sujeito</th>\n",
       "      <th>Sexo</th>\n",
       "      <th>Hugger Antes</th>\n",
       "      <th>Hugger Depois</th>\n",
       "      <th>Convencional Antes</th>\n",
       "      <th>Convencional Depois</th>\n",
       "    </tr>\n",
       "  </thead>\n",
       "  <tbody>\n",
       "    <tr>\n",
       "      <th>0</th>\n",
       "      <td>1</td>\n",
       "      <td>Masculino</td>\n",
       "      <td>2.18</td>\n",
       "      <td>0.43</td>\n",
       "      <td>1.41</td>\n",
       "      <td>0.57</td>\n",
       "    </tr>\n",
       "    <tr>\n",
       "      <th>1</th>\n",
       "      <td>2</td>\n",
       "      <td>Feminino</td>\n",
       "      <td>2.05</td>\n",
       "      <td>0.08</td>\n",
       "      <td>1.99</td>\n",
       "      <td>0.39</td>\n",
       "    </tr>\n",
       "    <tr>\n",
       "      <th>2</th>\n",
       "      <td>3</td>\n",
       "      <td>Masculino</td>\n",
       "      <td>1.05</td>\n",
       "      <td>0.18</td>\n",
       "      <td>1.62</td>\n",
       "      <td>0.92</td>\n",
       "    </tr>\n",
       "    <tr>\n",
       "      <th>3</th>\n",
       "      <td>4</td>\n",
       "      <td>Feminino</td>\n",
       "      <td>1.95</td>\n",
       "      <td>0.78</td>\n",
       "      <td>1.51</td>\n",
       "      <td>0.06</td>\n",
       "    </tr>\n",
       "    <tr>\n",
       "      <th>4</th>\n",
       "      <td>5</td>\n",
       "      <td>Feminino</td>\n",
       "      <td>0.28</td>\n",
       "      <td>0.03</td>\n",
       "      <td>1.06</td>\n",
       "      <td>1.07</td>\n",
       "    </tr>\n",
       "  </tbody>\n",
       "</table>\n",
       "</div>"
      ],
      "text/plain": [
       "   Sujeito       Sexo  Hugger Antes  Hugger Depois  Convencional Antes  \\\n",
       "0        1  Masculino          2.18           0.43                1.41   \n",
       "1        2   Feminino          2.05           0.08                1.99   \n",
       "2        3  Masculino          1.05           0.18                1.62   \n",
       "3        4   Feminino          1.95           0.78                1.51   \n",
       "4        5   Feminino          0.28           0.03                1.06   \n",
       "\n",
       "   Convencional Depois  \n",
       "0                 0.57  \n",
       "1                 0.39  \n",
       "2                 0.92  \n",
       "3                 0.06  \n",
       "4                 1.07  "
      ]
     },
     "execution_count": 18,
     "metadata": {},
     "output_type": "execute_result"
    }
   ],
   "source": [
    "# Criando o DataFrame\n",
    "df = pd.DataFrame({\n",
    "    'Sujeito': sujeitos,\n",
    "    'Sexo': sexo,\n",
    "    'Hugger Antes': hugger_antes,\n",
    "    'Hugger Depois': hugger_depois,\n",
    "    'Convencional Antes': convencional_antes,\n",
    "    'Convencional Depois': convencional_depois\n",
    "})\n",
    "\n",
    "# Exibindo os primeiros dados\n",
    "df.head()"
   ]
  },
  {
   "cell_type": "markdown",
   "metadata": {},
   "source": [
    "## Análise Descritia"
   ]
  },
  {
   "cell_type": "markdown",
   "metadata": {},
   "source": [
    "### Estatística Descritivas por Tipo de Escovação"
   ]
  },
  {
   "cell_type": "code",
   "execution_count": 20,
   "metadata": {},
   "outputs": [
    {
     "name": "stdout",
     "output_type": "stream",
     "text": [
      "         Sujeito  Hugger Antes  Hugger Depois  Convencional Antes  \\\n",
      "count  26.000000     26.000000      26.000000           26.000000   \n",
      "mean   13.500000      1.641923       0.267808            1.531154   \n",
      "std     7.648529      0.883154       0.237182            0.533399   \n",
      "min     1.000000      0.180000       0.000000            0.680000   \n",
      "25%     7.250000      1.100000       0.085000            1.082500   \n",
      "50%    13.500000      1.500000       0.220000            1.460000   \n",
      "75%    19.750000      2.232500       0.330000            2.035000   \n",
      "max    26.000000      3.480000       0.900000            2.430000   \n",
      "\n",
      "       Convencional Depois  \n",
      "count            26.000000  \n",
      "mean              0.611923  \n",
      "std               0.334581  \n",
      "min               0.060000  \n",
      "25%               0.400000  \n",
      "50%               0.565000  \n",
      "75%               0.915000  \n",
      "max               1.190000  \n"
     ]
    }
   ],
   "source": [
    "print(df.describe())\n"
   ]
  },
  {
   "cell_type": "markdown",
   "metadata": {},
   "source": [
    "### Comparação da Redução da Placa"
   ]
  },
  {
   "cell_type": "code",
   "execution_count": 29,
   "metadata": {},
   "outputs": [],
   "source": [
    "# índice de redução = (antes - depois) / antes\n",
    "df['Reducao Hugger'] = ((df['Hugger Antes'] - df['Hugger Depois']) / df['Hugger Antes'])\n",
    "df['Reducao Convencional'] = ((df['Convencional Antes'] - df['Convencional Depois']) / df['Convencional Antes'])\n",
    "\n"
   ]
  },
  {
   "cell_type": "code",
   "execution_count": 30,
   "metadata": {},
   "outputs": [
    {
     "name": "stdout",
     "output_type": "stream",
     "text": [
      "   Sujeito  Reducao Hugger  Reducao Convencional\n",
      "0        1        0.802752              0.595745\n",
      "1        2        0.960976              0.804020\n",
      "2        3        0.828571              0.432099\n",
      "3        4        0.600000              0.960265\n",
      "4        5        0.892857             -0.009434\n"
     ]
    }
   ],
   "source": [
    "print(df[['Sujeito', 'Reducao Hugger', 'Reducao Convencional']].head())"
   ]
  },
  {
   "cell_type": "markdown",
   "metadata": {},
   "source": [
    "## Visualização dos Dados"
   ]
  },
  {
   "cell_type": "code",
   "execution_count": 31,
   "metadata": {},
   "outputs": [
    {
     "name": "stdout",
     "output_type": "stream",
     "text": [
      "   Sujeito       Sexo  Hugger Antes  Hugger Depois  Convencional Antes  \\\n",
      "0        1  Masculino          2.18          0.430                1.41   \n",
      "1        2   Feminino          2.05          0.080                1.99   \n",
      "2        3  Masculino          1.05          0.180                1.62   \n",
      "3        4   Feminino          1.95          0.780                1.51   \n",
      "4        5   Feminino          0.28          0.030                1.06   \n",
      "5        6  Masculino          2.63          0.023                2.43   \n",
      "6        7  Masculino          1.50          0.200                0.80   \n",
      "7        8   Feminino          0.45          0.000                2.05   \n",
      "8        9  Masculino          0.70          0.050                2.07   \n",
      "9       10   Feminino          1.30          0.300                0.89   \n",
      "\n",
      "   Convencional Depois  Reducao Hugger  Reducao Convencional  \n",
      "0                 0.57        0.802752              0.595745  \n",
      "1                 0.39        0.960976              0.804020  \n",
      "2                 0.92        0.828571              0.432099  \n",
      "3                 0.06        0.600000              0.960265  \n",
      "4                 1.07        0.892857             -0.009434  \n",
      "5                 0.74        0.991255              0.695473  \n",
      "6                 0.06        0.866667              0.925000  \n",
      "7                 1.19        1.000000              0.419512  \n",
      "8                 0.39        0.928571              0.811594  \n",
      "9                 0.53        0.769231              0.404494  \n"
     ]
    }
   ],
   "source": [
    "print(df.head(10))"
   ]
  },
  {
   "cell_type": "code",
   "execution_count": null,
   "metadata": {},
   "outputs": [],
   "source": [
    "# há valores negativos devido o uso de dados randomicos, por isso resolvi tratar outliers pelo metodo IQR"
   ]
  },
  {
   "cell_type": "code",
   "execution_count": 36,
   "metadata": {},
   "outputs": [],
   "source": [
    "# Função para remover outliers usando o método do IQR (Interquartil)\n",
    "def remover_outliers(df, coluna):\n",
    "    Q1 = df[coluna].quantile(0.25)  # Primeiro quartil (25%)\n",
    "    Q3 = df[coluna].quantile(0.75)  # Terceiro quartil (75%)\n",
    "    IQR = Q3 - Q1  # Intervalo interquartil\n",
    "    \n",
    "    # Definir limites para detecção de outliers\n",
    "    limite_inferior = Q1 - 1.5 * IQR\n",
    "    limite_superior = Q3 + 1.5 * IQR\n",
    "    \n",
    "    # Filtrar os dados sem os outliers\n",
    "    df_filtrado = df[(df[coluna] >= limite_inferior) & (df[coluna] <= limite_superior)]\n",
    "    \n",
    "    return df_filtrado\n",
    "\n",
    "# Aplicando a remoção de outliers nas colunas de Redução\n",
    "df_sem_outliers = remover_outliers(df, 'Reducao Hugger')\n",
    "df_sem_outliers = remover_outliers(df_sem_outliers, 'Reducao Convencional')"
   ]
  },
  {
   "cell_type": "code",
   "execution_count": 39,
   "metadata": {},
   "outputs": [
    {
     "name": "stdout",
     "output_type": "stream",
     "text": [
      "    Sujeito  Reducao Hugger  Reducao Convencional\n",
      "0         1        0.802752              0.595745\n",
      "1         2        0.960976              0.804020\n",
      "2         3        0.828571              0.432099\n",
      "5         6        0.991255              0.695473\n",
      "6         7        0.866667              0.925000\n",
      "7         8        1.000000              0.419512\n",
      "8         9        0.928571              0.811594\n",
      "9        10        0.769231              0.404494\n",
      "10       11        0.736000              0.878049\n",
      "11       12        1.000000              0.846154\n",
      "12       13        0.727273              0.593220\n",
      "13       14        0.828571              0.195122\n",
      "14       15        0.833333              0.676692\n",
      "15       16        0.827586              0.767635\n",
      "16       17        0.868000              0.543379\n",
      "17       18        0.853333              0.085714\n",
      "18       19        0.653595              0.217391\n",
      "19       20        0.699301              0.622047\n",
      "20       21        0.813218              0.938967\n",
      "21       22        0.888889              0.582857\n",
      "22       23        0.833333              0.632479\n",
      "24       25        0.961538              0.787440\n"
     ]
    }
   ],
   "source": [
    "# Removendo valores negativos no índice de redução da placa\n",
    "df_sem_outliers = df_sem_outliers[(df_sem_outliers['Reducao Hugger'] >= 0) & (df_sem_outliers['Reducao Convencional'] >= 0)]\n",
    "\n",
    "# Exibindo o DataFrame corrigido\n",
    "print(df_sem_outliers[['Sujeito', 'Reducao Hugger', 'Reducao Convencional']])\n"
   ]
  },
  {
   "cell_type": "code",
   "execution_count": 40,
   "metadata": {},
   "outputs": [
    {
     "name": "stdout",
     "output_type": "stream",
     "text": [
      "       Reducao Hugger  Reducao Convencional\n",
      "count       22.000000             22.000000\n",
      "mean         0.848727              0.611595\n",
      "std          0.097444              0.238946\n",
      "min          0.653595              0.085714\n",
      "25%          0.805369              0.459919\n",
      "50%          0.833333              0.627263\n",
      "75%          0.918651              0.799875\n",
      "max          1.000000              0.938967\n"
     ]
    }
   ],
   "source": [
    "print(df_sem_outliers[['Reducao Hugger', 'Reducao Convencional']].describe())"
   ]
  },
  {
   "cell_type": "code",
   "execution_count": 41,
   "metadata": {},
   "outputs": [
    {
     "data": {
      "image/png": "[encoded data removed]",
      "text/plain": [
       "<Figure size 1200x600 with 1 Axes>"
      ]
     },
     "metadata": {},
     "output_type": "display_data"
    }
   ],
   "source": [
    "# Ajustando o estilo do gráfico\n",
    "sns.set_style(\"whitegrid\")\n",
    "\n",
    "# Criando o Boxplot atualizado após remoção dos outliers e valores negativos\n",
    "plt.figure(figsize=(12, 6))\n",
    "sns.boxplot(data=df_sem_outliers[['Reducao Hugger', 'Reducao Convencional']])\n",
    "plt.title('Comparação da Redução da Placa sem Outliers e Sem Valores Negativos')\n",
    "plt.ylabel('Índice de Redução da Placa')\n",
    "plt.xlabel('Tipo de Escova')\n",
    "\n",
    "# Exibir o gráfico\n",
    "plt.show()\n"
   ]
  },
  {
   "cell_type": "code",
   "execution_count": 42,
   "metadata": {},
   "outputs": [
    {
     "data": {
      "image/png": "[encoded data removed]",
      "text/plain": [
       "<Figure size 1200x600 with 1 Axes>"
      ]
     },
     "metadata": {},
     "output_type": "display_data"
    }
   ],
   "source": [
    "# Importando bibliotecas necessárias\n",
    "import matplotlib.pyplot as plt\n",
    "\n",
    "# Criando o gráfico de dispersão para visualizar a redução da placa por sujeito\n",
    "plt.figure(figsize=(12, 6))\n",
    "\n",
    "# Plotando os pontos da escova Hugger\n",
    "plt.scatter(df_sem_outliers['Sujeito'], df_sem_outliers['Reducao Hugger'], \n",
    "            label='Hugger', alpha=0.7, color='blue')\n",
    "\n",
    "# Plotando os pontos da escova Convencional\n",
    "plt.scatter(df_sem_outliers['Sujeito'], df_sem_outliers['Reducao Convencional'], \n",
    "            label='Convencional', alpha=0.7, color='red')\n",
    "\n",
    "# Adicionando rótulos e título\n",
    "plt.title('Gráfico de Dispersão - Redução da Placa por Sujeito')\n",
    "plt.xlabel('Sujeito (Criança)')\n",
    "plt.ylabel('Índice de Redução da Placa')\n",
    "plt.legend()\n",
    "plt.grid(True)\n",
    "\n",
    "# Exibir o gráfico\n",
    "plt.show()\n"
   ]
  },
  {
   "cell_type": "markdown",
   "metadata": {},
   "source": [
    "## Testes Estatísticos"
   ]
  },
  {
   "cell_type": "markdown",
   "metadata": {},
   "source": [
    "### Anova"
   ]
  },
  {
   "cell_type": "code",
   "execution_count": 45,
   "metadata": {},
   "outputs": [
    {
     "name": "stdout",
     "output_type": "stream",
     "text": [
      "Teste ANOVA - Comparação das Reduções de Placa\n",
      "Estatística F: 18.5777\n",
      "Valor p: 0.0001\n",
      "\n",
      "✅ Resultado: Existe uma diferença estatisticamente significativa entre as escovas.\n"
     ]
    }
   ],
   "source": [
    "# Importando a biblioteca para ANOVA\n",
    "from scipy.stats import f_oneway\n",
    "\n",
    "# Executando o Teste ANOVA entre as duas escovas\n",
    "anova_resultado = f_oneway(df_sem_outliers['Reducao Hugger'], df_sem_outliers['Reducao Convencional'])\n",
    "\n",
    "# Exibindo os resultados\n",
    "print(\"Teste ANOVA - Comparação das Reduções de Placa\")\n",
    "print(f\"Estatística F: {anova_resultado.statistic:.4f}\")\n",
    "print(f\"Valor p: {anova_resultado.pvalue:.4f}\")\n",
    "\n",
    "# Interpretando o resultado\n",
    "if anova_resultado.pvalue < 0.05:\n",
    "    print(\"\\n✅ Resultado: Existe uma diferença estatisticamente significativa entre as escovas.\")\n",
    "else:\n",
    "    print(\"\\n❌ Resultado: Não há diferença estatisticamente significativa entre as escovas.\")\n"
   ]
  },
  {
   "cell_type": "markdown",
   "metadata": {},
   "source": [
    "### Determinando o R² (quanto da variação dos dados pode ser explicada pelo modelo)."
   ]
  },
  {
   "cell_type": "code",
   "execution_count": 48,
   "metadata": {},
   "outputs": [
    {
     "name": "stdout",
     "output_type": "stream",
     "text": [
      "📊 Coeficiente de Determinação (R²): 0.1013\n",
      "❌ O tipo de escova não explica bem a redução da placa.\n"
     ]
    }
   ],
   "source": [
    "# Importando a biblioteca para regressão\n",
    "import statsmodels.api as sm\n",
    "\n",
    "# Criando uma variável categórica para os tipos de escova\n",
    "df_sem_outliers['Tipo Escova'] = ['Hugger'] * len(df_sem_outliers)\n",
    "\n",
    "# Criando um identificador para o modelo estatístico (0 para Hugger, 1 para Convencional)\n",
    "df_sem_outliers.loc[df_sem_outliers.index % 2 == 1, 'Tipo Escova'] = 'Convencional'\n",
    "df_sem_outliers['Tipo Escova'] = df_sem_outliers['Tipo Escova'].map({'Hugger': 0, 'Convencional': 1})\n",
    "\n",
    "# Criando o modelo de regressão para prever a redução da placa com base no tipo de escova\n",
    "X = df_sem_outliers['Tipo Escova']  # Variável explicativa (tipo de escova)\n",
    "y = df_sem_outliers['Reducao Hugger']  # Variável resposta (redução da placa)\n",
    "\n",
    "# Adicionando uma constante ao modelo (necessário para regressão com statsmodels)\n",
    "X = sm.add_constant(X)\n",
    "\n",
    "# Ajustando o modelo de regressão\n",
    "modelo = sm.OLS(y, X).fit()\n",
    "\n",
    "# Obtendo o R²\n",
    "r_quadrado = modelo.rsquared\n",
    "\n",
    "# Exibindo o resultado\n",
    "print(f\"📊 Coeficiente de Determinação (R²): {r_quadrado:.4f}\")\n",
    "\n",
    "# Interpretando o resultado\n",
    "if r_quadrado > 0.7:\n",
    "    print(\"✅ O tipo de escova explica a maior parte da variação na redução da placa.\")\n",
    "elif r_quadrado > 0.3:\n",
    "    print(\"⚠️ O tipo de escova tem alguma influência na redução da placa, mas outros fatores podem estar envolvidos.\")\n",
    "else:\n",
    "    print(\"❌ O tipo de escova não explica bem a redução da placa.\")\n"
   ]
  }
 ],
 "metadata": {
  "kernelspec": {
   "display_name": "Scraping2",
   "language": "python",
   "name": "python3"
  },
  "language_info": {
   "codemirror_mode": {
    "name": "ipython",
    "version": 3
   },
   "file_extension": ".py",
   "mimetype": "text/x-python",
   "name": "python",
   "nbconvert_exporter": "python",
   "pygments_lexer": "ipython3",
   "version": "3.11.9"
  }
 },
 "nbformat": 4,
 "nbformat_minor": 2
}
